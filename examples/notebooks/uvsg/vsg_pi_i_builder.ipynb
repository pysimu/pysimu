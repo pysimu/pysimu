{
 "cells": [
  {
   "cell_type": "code",
   "execution_count": 5,
   "metadata": {},
   "outputs": [],
   "source": [
    "import numpy as np\n",
    "import matplotlib.pyplot as plt\n",
    "import scipy.optimize as sopt\n",
    "from pysimu import ode2numba, ssa\n",
    "\n",
    "from ipywidgets import *\n"
   ]
  },
  {
   "cell_type": "code",
   "execution_count": 6,
   "metadata": {},
   "outputs": [],
   "source": [
    "%matplotlib notebook"
   ]
  },
  {
   "cell_type": "markdown",
   "metadata": {},
   "source": [
    "## System definition "
   ]
  },
  {
   "cell_type": "code",
   "execution_count": 10,
   "metadata": {
    "scrolled": true
   },
   "outputs": [
    {
     "name": "stdout",
     "output_type": "stream",
     "text": [
      "omega_s \n",
      "p_s_ref \n",
      "p_h  \n",
      "p_m0 \n",
      "v_gr \n",
      "v_gi \n",
      "v_sr \n",
      "v_si \n",
      "v_sd_s\n",
      "v_sq_s\n",
      "v_sd \n",
      "v_sq \n",
      "i_sd \n",
      "i_sq \n",
      "i_sd_s \n",
      "i_sq_s \n",
      "i_si\n",
      "i_sr\n",
      "epsilon_p\n",
      "epsilon_q\n",
      "p_s\n",
      "q_s\n",
      " -omega_s + K_p*epsilon_p + K_i*xi_p + 1,  -p_s_ref + p_m,  p_h + 2*H*RoCoFpu,  p_m0 - p_m, -v_gr + V_g*cos(phi_g), -v_gi + V_g*sin(phi_g),  -v_sr + v_gr + R_g*i_sr - X_g*i_si,  -v_si + v_gi + R_g*i_si + X_g*i_sr, -v_sd_s + v_si, -v_sq_s - v_sr, -v_sd + cos(phi_s)*v_sd_s + cos(phi_s-pi/2)*v_sq_s, -v_sq - sin(phi_s)*v_sd_s - sin(phi_s-pi/2)*v_sq_s,  -v_sd    + 0.0                        + R_s*i_sd + X_s*i_sq,  -v_sq -1 + K_q*(epsilon_q + xi_q/T_q) + R_s*i_sq - X_s*i_sd,  -i_sd_s + cos(phi_s)*i_sd      - sin(phi_s)*i_sq,  -i_sq_s + cos(phi_s-pi/2)*i_sd - sin(phi_s-pi/2)*i_sq, -i_si + i_sd_s, -i_sr - i_sq_s, -epsilon_p + p_s_ref - p_s, -epsilon_q + q_s_ref - q_s, -p_s+ i_sd*v_sd + i_sq*v_sq, -q_s+ i_sd*v_sq - i_sq*v_sd, \n",
      "Matrix([[omega_s], [p_s_ref], [p_h], [p_m0], [v_gr], [v_gi], [v_sr], [v_si], [v_sd_s], [v_sq_s], [v_sd], [v_sq], [i_sd], [i_sq], [i_sd_s], [i_sq_s], [i_si], [i_sr], [epsilon_p], [epsilon_q], [p_s], [q_s]])\n",
      "N_y 22\n",
      " -omega_s + K_p*epsilon_p + K_i*xi_p + 1,  -p_s_ref + p_m,  p_h + 2*H*RoCoFpu,  p_m0 - p_m, -v_gr + V_g*sym.cos(phi_g), -v_gi + V_g*sym.sin(phi_g),  -v_sr + v_gr + R_g*i_sr - X_g*i_si,  -v_si + v_gi + R_g*i_si + X_g*i_sr, -v_sd_s + v_si, -v_sq_s - v_sr, -v_sd + sym.cos(phi_s)*v_sd_s + sym.cos(phi_s-sym.pi/2)*v_sq_s, -v_sq - sym.sin(phi_s)*v_sd_s - sym.sin(phi_s-sym.pi/2)*v_sq_s,  -v_sd    + 0.0                        + R_s*i_sd + X_s*i_sq,  -v_sq -1 + K_q*(epsilon_q + xi_q/T_q) + R_s*i_sq - X_s*i_sd,  -i_sd_s + sym.cos(phi_s)*i_sd      - sym.sin(phi_s)*i_sq,  -i_sq_s + sym.cos(phi_s-sym.pi/2)*i_sd - sym.sin(phi_s-sym.pi/2)*i_sq, -i_si + i_sd_s, -i_sr - i_sq_s, -epsilon_p + p_s_ref - p_s, -epsilon_q + q_s_ref - q_s, -p_s+ i_sd*v_sd + i_sq*v_sq, -q_s+ i_sd*v_sq - i_sq*v_sd, \n"
     ]
    }
   ],
   "source": [
    "S_base = 100.0e6\n",
    "U_base = 20e3\n",
    "Z_base = U_base**2/S_base\n",
    "r_km = 0.127 # ohm/km\n",
    "x_km = 0.113 # ohm/km\n",
    "lenght = 1.0\n",
    "R = r_km*lenght/Z_base\n",
    "X = x_km*lenght/Z_base\n",
    "Z = R +1j*X\n",
    "Y = 1.0/Z\n",
    "G_s_inf, B_s_inf = Y.real, Y.imag\n",
    "\n",
    "sys = { 't_end':20.0,'Dt':0.01,'solver':'forward-euler', 'decimation':10, 'name':'vsg_pi_i',\n",
    "   'models':[{'params':\n",
    "                   {'K_p':0.01,\n",
    "                    'K_i':0.1,\n",
    "                    'K_q':0.1,\n",
    "                    'T_q':0.1,\n",
    "                    'Omega_b' : 2*np.pi*50,\n",
    "                    'R_g':0.01,\n",
    "                    'X_g':0.05,\n",
    "                    'V_g': 1.0,\n",
    "                    'K_f': 0.0,\n",
    "                    'K_s': 1.0,\n",
    "                    'H': 5.0,\n",
    "                    'R_s':0.01,\n",
    "                    'X_s':0.01,\n",
    "                   },\n",
    "              'f':[\n",
    "                    'dphi_s = Omega_b*(omega_s - 1)',\n",
    "                    'dxi_p  = epsilon_p',\n",
    "                    'dxi_q  = epsilon_q',\n",
    "                    'dphi_g = Omega_b*(omega_g - 1) -1e-5*phi_g',\n",
    "                    'domega_g = RoCoFpu - 1e-5*(omega_g - 1)'\n",
    "                  ],   \n",
    "              'g':[\n",
    "                   'omega_s @ -omega_s + K_p*epsilon_p + K_i*xi_p + 1',\n",
    "                   'p_s_ref @ -p_s_ref + p_m',\n",
    "                   'p_h  @ p_h + 2*H*RoCoFpu',\n",
    "                   'p_m0 @ p_m0 - p_m',\n",
    "                   'v_gr @-v_gr + V_g*cos(phi_g)',\n",
    "                   'v_gi @-v_gi + V_g*sin(phi_g)',\n",
    "                   'v_sr @ -v_sr + v_gr + R_g*i_sr - X_g*i_si', # kron reference frame\n",
    "                   'v_si @ -v_si + v_gi + R_g*i_si + X_g*i_sr', # kron reference frame\n",
    "                   'v_sd_s@-v_sd_s + v_si', # phasor to dq in POI reference frame (v_sd_s = 0)\n",
    "                   'v_sq_s@-v_sq_s - v_sr', # phasor to dq                   \n",
    "                   'v_sd @-v_sd + cos(phi_s)*v_sd_s + cos(phi_s-pi/2)*v_sq_s',# virtual rotor reference frame\n",
    "                   'v_sq @-v_sq - sin(phi_s)*v_sd_s - sin(phi_s-pi/2)*v_sq_s',# virtual rotor reference frame\n",
    "                   'i_sd @ -v_sd    + 0.0                        + R_s*i_sd + X_s*i_sq',# virtual rotor reference frame\n",
    "                   'i_sq @ -v_sq -1 + K_q*(epsilon_q + xi_q/T_q) + R_s*i_sq - X_s*i_sd',# virtual rotor reference frame\n",
    "                   'i_sd_s @ -i_sd_s + cos(phi_s)*i_sd      - sin(phi_s)*i_sq', # kron reference frame\n",
    "                   'i_sq_s @ -i_sq_s + cos(phi_s-pi/2)*i_sd - sin(phi_s-pi/2)*i_sq', # kron reference frame\n",
    "                   'i_si@-i_si + i_sd_s', # dq to phasor  \n",
    "                   'i_sr@-i_sr - i_sq_s', # dq to phasor     \n",
    "                   'epsilon_p@-epsilon_p + p_s_ref - p_s',\n",
    "                   'epsilon_q@-epsilon_q + q_s_ref - q_s',\n",
    "                   'p_s@-p_s+ i_sd*v_sd + i_sq*v_sq', # active power equation \n",
    "                   'q_s@-q_s+ i_sd*v_sq - i_sq*v_sd', # reactive power equation \n",
    "                  ],\n",
    "              'u':{'p_m':0.8,'q_s_ref':0.1, 'RoCoFpu':0.0},\n",
    "              'y':['omega_s','p_s_ref','p_h','p_m0','v_gr','v_gi','i_sr', 'i_si', 'i_sd_s', 'i_sq_s', 'i_sd','i_sq','v_sd','v_sq','v_sd_s','v_sq_s',\n",
    "                   'v_sr','v_si','epsilon_p','epsilon_q','p_s','q_s'],\n",
    "             'y_ini':['omega_s','p_s_ref','p_h','p_m0','v_gr','v_gi','i_sr', 'i_si', 'i_sd_s', 'i_sq_s', 'i_sd','i_sq','v_sd','v_sq','v_sd_s','v_sq_s',\n",
    "                   'v_sr','v_si','epsilon_p','epsilon_q','p_s','q_s'],\n",
    "\n",
    "              'h':[\n",
    "                   'p_m'\n",
    "                   ]}\n",
    "              ],\n",
    "    'perturbations':[{'type':'step','time':100.0,'var':'p_m','final':1.01} ]\n",
    "    }\n",
    "\n",
    "x,f = ode2numba.system(sys)  ;\n"
   ]
  },
  {
   "cell_type": "code",
   "execution_count": null,
   "metadata": {},
   "outputs": [],
   "source": []
  },
  {
   "cell_type": "code",
   "execution_count": null,
   "metadata": {},
   "outputs": [],
   "source": []
  },
  {
   "cell_type": "code",
   "execution_count": null,
   "metadata": {},
   "outputs": [],
   "source": []
  },
  {
   "cell_type": "code",
   "execution_count": 35,
   "metadata": {},
   "outputs": [
    {
     "data": {
      "text/plain": [
       "15625.0"
      ]
     },
     "execution_count": 35,
     "metadata": {},
     "output_type": "execute_result"
    }
   ],
   "source": [
    "25/40*25000"
   ]
  },
  {
   "cell_type": "code",
   "execution_count": 36,
   "metadata": {},
   "outputs": [
    {
     "data": {
      "text/plain": [
       "1302.0833333333333"
      ]
     },
     "execution_count": 36,
     "metadata": {},
     "output_type": "execute_result"
    }
   ],
   "source": [
    "15625.0/12"
   ]
  },
  {
   "cell_type": "code",
   "execution_count": null,
   "metadata": {},
   "outputs": [],
   "source": []
  }
 ],
 "metadata": {
  "kernelspec": {
   "display_name": "Python 3",
   "language": "python",
   "name": "python3"
  },
  "language_info": {
   "codemirror_mode": {
    "name": "ipython",
    "version": 3
   },
   "file_extension": ".py",
   "mimetype": "text/x-python",
   "name": "python",
   "nbconvert_exporter": "python",
   "pygments_lexer": "ipython3",
   "version": "3.7.1"
  }
 },
 "nbformat": 4,
 "nbformat_minor": 2
}
