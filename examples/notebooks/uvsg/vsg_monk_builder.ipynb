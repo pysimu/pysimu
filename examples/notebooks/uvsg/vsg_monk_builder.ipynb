{
 "cells": [
  {
   "cell_type": "code",
   "execution_count": 2,
   "metadata": {},
   "outputs": [],
   "source": [
    "import numpy as np\n",
    "import matplotlib.pyplot as plt\n",
    "import scipy.optimize as sopt\n",
    "from pysimu import ode2numba, ssa\n",
    "\n",
    "from ipywidgets import *\n"
   ]
  },
  {
   "cell_type": "code",
   "execution_count": 3,
   "metadata": {},
   "outputs": [],
   "source": [
    "%matplotlib notebook"
   ]
  },
  {
   "cell_type": "markdown",
   "metadata": {},
   "source": [
    "## System definition "
   ]
  },
  {
   "cell_type": "code",
   "execution_count": 17,
   "metadata": {
    "scrolled": true
   },
   "outputs": [
    {
     "name": "stdout",
     "output_type": "stream",
     "text": [
      "p_h\n",
      "p_m0 \n",
      "v_gr\n",
      "v_gi\n",
      "i_sr \n",
      "i_si \n",
      "i_sd_s\n",
      "i_sq_s\n",
      "i_sd \n",
      "i_sq \n",
      "v_sd \n",
      "v_sq \n",
      "v_sd_s \n",
      "v_sq_s \n",
      "v_si\n",
      "v_sr\n",
      "epsilon_q\n",
      "e    \n",
      "v_td\n",
      "v_tq\n",
      "p_e\n",
      "p_s\n",
      "q_s\n",
      "v_sd_pll\n",
      "v_sq_pll\n",
      "omega_pll\n",
      " p_h + 2*H*RoCoFpu,  p_m0 - p_m, -v_gr + V_g*cos(phi_g), -v_gi + V_g*sin(phi_g),  - i_sr -(R_g*(v_sr - v_gr) + X_g*(v_si -v_gi))/(X_g**2 + R_g**2),  - i_si -(R_g*(v_si - v_gi) - X_g*(v_sr -v_gr))/(X_g**2 + R_g**2), -i_sd_s + i_si, -i_sq_s - i_sr, -i_sd + cos(delta)*i_sd_s + cos(delta-pi/2)*i_sq_s, -i_sq - sin(delta)*i_sd_s - sin(delta-pi/2)*i_sq_s,  v_sd - v_td - R_s*i_sd + X_s*i_sq,  v_sq - v_tq - R_s*i_sq - X_s*i_sd,  -v_sd_s + cos(-delta)*v_sd + cos(-delta-pi/2)*v_sq,  -v_sq_s - sin(-delta)*v_sd - sin(-delta-pi/2)*v_sq, -v_sd_s + v_si, -v_sq_s - v_sr, -epsilon_q + q_s_ref - q_s,  -e -1+ K_q*(epsilon_q + xi_q/T_q) ,  -v_td + 0.0,  -v_tq +e, -p_e+ i_sd*v_td + i_sq*v_tq, -p_s+ i_sd*v_sd + i_sq*v_sq, -q_s+ i_sd*v_sq - i_sq*v_sd,  -v_sd_pll + cos(phi_pll)*v_sr + cos(phi_pll-pi/2)*v_si,  -v_sq_pll - sin(phi_pll)*v_sr - sin(phi_pll-pi/2)*v_si, -omega_pll + K_pll*v_sq_pll, \n",
      "Matrix([[p_h], [p_m0], [v_gr], [v_gi], [i_sr], [i_si], [i_sd_s], [i_sq_s], [i_sd], [i_sq], [v_sd], [v_sq], [v_sd_s], [v_sq_s], [v_si], [v_sr], [epsilon_q], [e], [v_td], [v_tq], [p_e], [p_s], [q_s], [v_sd_pll], [v_sq_pll], [omega_pll]])\n",
      "N_y 26\n",
      " p_h + 2*H*RoCoFpu,  p_m0 - p_m, -v_gr + V_g*sym.cos(phi_g), -v_gi + V_g*sym.sin(phi_g),  - i_sr -(R_g*(v_sr - v_gr) + X_g*(v_si -v_gi))/(X_g**2 + R_g**2),  - i_si -(R_g*(v_si - v_gi) - X_g*(v_sr -v_gr))/(X_g**2 + R_g**2), -i_sd_s + i_si, -i_sq_s - i_sr, -i_sd + sym.cos(delta)*i_sd_s + sym.cos(delta-sym.pi/2)*i_sq_s, -i_sq - sym.sin(delta)*i_sd_s - sym.sin(delta-sym.pi/2)*i_sq_s,  v_sd - v_td - R_s*i_sd + X_s*i_sq,  v_sq - v_tq - R_s*i_sq - X_s*i_sd,  -v_sd_s + sym.cos(-delta)*v_sd + sym.cos(-delta-sym.pi/2)*v_sq,  -v_sq_s - sym.sin(-delta)*v_sd - sym.sin(-delta-sym.pi/2)*v_sq, -v_sd_s + v_si, -v_sq_s - v_sr, -epsilon_q + q_s_ref - q_s,  -e -1+ K_q*(epsilon_q + xi_q/T_q) ,  -v_td + 0.0,  -v_tq +e, -p_e+ i_sd*v_td + i_sq*v_tq, -p_s+ i_sd*v_sd + i_sq*v_sq, -q_s+ i_sd*v_sq - i_sq*v_sd,  -v_sd_pll + sym.cos(phi_pll)*v_sr + sym.cos(phi_pll-sym.pi/2)*v_si,  -v_sq_pll - sym.sin(phi_pll)*v_sr - sym.sin(phi_pll-sym.pi/2)*v_si, -omega_pll + K_pll*v_sq_pll, \n"
     ]
    }
   ],
   "source": [
    "S_base = 100.0e6\n",
    "U_base = 20e3\n",
    "Z_base = U_base**2/S_base\n",
    "r_km = 0.127 # ohm/km\n",
    "x_km = 0.113 # ohm/km\n",
    "lenght = 1.0\n",
    "R = r_km*lenght/Z_base\n",
    "X = x_km*lenght/Z_base\n",
    "Z = R +1j*X\n",
    "Y = 1.0/Z\n",
    "G_s_inf, B_s_inf = Y.real, Y.imag\n",
    "\n",
    "sys = { 't_end':20.0,'Dt':0.01,'solver':'forward-euler', 'decimation':10, 'name':'vsg_monk',\n",
    "   'models':[{'params':\n",
    "                   {'H':6.0,\n",
    "                    'D':20,\n",
    "                    'X_s': 0.1,\n",
    "                    'R_s': 0.0,\n",
    "                    'K_q':1.0,\n",
    "                    'T_q':1.0,\n",
    "                    'Omega_b' : 2*np.pi*60,\n",
    "                    'R_g':0.01,\n",
    "                    'X_g':0.05,\n",
    "                    #'phi_g': 0.0, \n",
    "                    'V_g': 1.0,\n",
    "                    'K_pll':0.01592\n",
    "                   },\n",
    "              'f':[\n",
    "                'ddelta = Omega_b*(omega_t-1)',\n",
    "                'domega_t = 1/(2*H)*(p_m - p_e - (omega_t-(omega_pll+1))*D)',\n",
    "                'dxi_q = epsilon_q',\n",
    "                'dphi_pll = Omega_b*omega_pll',\n",
    "                'dphi_g = Omega_b*(omega_g - 1) -1e-5*phi_g',\n",
    "                'domega_g = RoCoFpu - 1e-5*(omega_g - 1)'\n",
    "                  ],   \n",
    "              'g':[\n",
    "                   'p_h@ p_h + 2*H*RoCoFpu',\n",
    "                   'p_m0 @ p_m0 - p_m',\n",
    "                   'v_gr@-v_gr + V_g*cos(phi_g)',\n",
    "                   'v_gi@-v_gi + V_g*sin(phi_g)',\n",
    "                   'i_sr @ - i_sr -(R_g*(v_sr - v_gr) + X_g*(v_si -v_gi))/(X_g**2 + R_g**2)', # kron reference frame\n",
    "                   'i_si @ - i_si -(R_g*(v_si - v_gi) - X_g*(v_sr -v_gr))/(X_g**2 + R_g**2)', # kron reference frame\n",
    "                   'i_sd_s@-i_sd_s + i_si', # phasor to dq in POI reference frame (v_sd_s = 0)\n",
    "                   'i_sq_s@-i_sq_s - i_sr', # phasor to dq                   \n",
    "                   'i_sd @-i_sd + cos(delta)*i_sd_s + cos(delta-pi/2)*i_sq_s',# virtual rotor reference frame\n",
    "                   'i_sq @-i_sq - sin(delta)*i_sd_s - sin(delta-pi/2)*i_sq_s',# virtual rotor reference frame\n",
    "                   'v_sd @ v_sd - v_td - R_s*i_sd + X_s*i_sq',# virtual rotor reference frame\n",
    "                   'v_sq @ v_sq - v_tq - R_s*i_sq - X_s*i_sd',# virtual rotor reference frame\n",
    "                   'v_sd_s @ -v_sd_s + cos(-delta)*v_sd + cos(-delta-pi/2)*v_sq', # kron reference frame\n",
    "                   'v_sq_s @ -v_sq_s - sin(-delta)*v_sd - sin(-delta-pi/2)*v_sq', # kron reference frame\n",
    "                   'v_si@-v_sd_s + v_si', # dq to phasor  \n",
    "                   'v_sr@-v_sq_s - v_sr', # dq to phasor     \n",
    "                   'epsilon_q@-epsilon_q + q_s_ref - q_s',\n",
    "                   'e    @ -e -1+ K_q*(epsilon_q + xi_q/T_q) ', # \n",
    "                   'v_td@ -v_td + 0.0', # virtual rotor reference frame\n",
    "                   'v_tq@ -v_tq +e', # virtual rotor reference frame\n",
    "                   'p_e@-p_e+ i_sd*v_td + i_sq*v_tq', # inetenal active power equation \n",
    "                   'p_s@-p_s+ i_sd*v_sd + i_sq*v_sq', # active power equation \n",
    "                   'q_s@-q_s+ i_sd*v_sq - i_sq*v_sd', # reactive power equation \n",
    "                   'v_sd_pll@ -v_sd_pll + cos(phi_pll)*v_sr + cos(phi_pll-pi/2)*v_si',\n",
    "                   'v_sq_pll@ -v_sq_pll - sin(phi_pll)*v_sr - sin(phi_pll-pi/2)*v_si', \n",
    "                   'omega_pll@-omega_pll + K_pll*v_sq_pll'\n",
    "                   ],\n",
    "              'u':{'p_m':0.8,'q_s_ref':0.1, 'RoCoFpu':0.0},\n",
    "              'y':['p_h','p_m0','v_gr','v_gi','i_sr', 'i_si', 'i_sd_s', 'i_sq_s', 'i_sd','i_sq','v_sd','v_sq','v_sd_s','v_sq_s',\n",
    "                   'v_sr','v_si','epsilon_q','e','v_td','v_tq','p_e','p_s','q_s','v_sd_pll','v_sq_pll','omega_pll'],\n",
    "          'y_ini':['p_h','p_m0','v_gr','v_gi','i_sr', 'i_si', 'i_sd_s', 'i_sq_s', 'i_sd','i_sq','v_sd','v_sq','v_sd_s','v_sq_s',\n",
    "                   'v_sr','v_si','epsilon_q','e','v_td','v_tq','p_e','p_s','q_s','v_sd_pll','v_sq_pll','omega_pll'],\n",
    "              'h':[\n",
    "                   'omega_t'\n",
    "                   ]}\n",
    "              ],\n",
    "    'perturbations':[{'type':'step','time':100.0,'var':'p_m','final':1.01} ]\n",
    "    }\n",
    "\n",
    "x,f = ode2numba.system(sys)  ;\n"
   ]
  },
  {
   "cell_type": "code",
   "execution_count": null,
   "metadata": {},
   "outputs": [],
   "source": []
  },
  {
   "cell_type": "code",
   "execution_count": null,
   "metadata": {},
   "outputs": [],
   "source": []
  },
  {
   "cell_type": "code",
   "execution_count": null,
   "metadata": {},
   "outputs": [],
   "source": []
  }
 ],
 "metadata": {
  "kernelspec": {
   "display_name": "Python 3",
   "language": "python",
   "name": "python3"
  },
  "language_info": {
   "codemirror_mode": {
    "name": "ipython",
    "version": 3
   },
   "file_extension": ".py",
   "mimetype": "text/x-python",
   "name": "python",
   "nbconvert_exporter": "python",
   "pygments_lexer": "ipython3",
   "version": "3.7.1"
  }
 },
 "nbformat": 4,
 "nbformat_minor": 2
}
