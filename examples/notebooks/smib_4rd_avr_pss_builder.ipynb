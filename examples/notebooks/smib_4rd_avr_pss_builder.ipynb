{
 "cells": [
  {
   "cell_type": "code",
   "execution_count": 10,
   "metadata": {},
   "outputs": [],
   "source": [
    "import numpy as np\n",
    "from pysimu import ode2numba, ssa"
   ]
  },
  {
   "cell_type": "markdown",
   "metadata": {},
   "source": [
    "## System definition "
   ]
  },
  {
   "cell_type": "code",
   "execution_count": 1,
   "metadata": {},
   "outputs": [
    {
     "ename": "NameError",
     "evalue": "name 'np' is not defined",
     "output_type": "error",
     "traceback": [
      "\u001b[1;31m---------------------------------------------------------------------------\u001b[0m",
      "\u001b[1;31mNameError\u001b[0m                                 Traceback (most recent call last)",
      "\u001b[1;32m<ipython-input-1-6d4b7d48190d>\u001b[0m in \u001b[0;36m<module>\u001b[1;34m\u001b[0m\n\u001b[0;32m     10\u001b[0m                     \u001b[1;34m'X_l'\u001b[0m  \u001b[1;33m:\u001b[0m \u001b[1;36m0.15\u001b[0m \u001b[1;33m,\u001b[0m\u001b[1;33m\u001b[0m\u001b[1;33m\u001b[0m\u001b[0m\n\u001b[0;32m     11\u001b[0m                     \u001b[1;34m'H'\u001b[0m  \u001b[1;33m:\u001b[0m \u001b[1;36m3.5\u001b[0m\u001b[1;33m,\u001b[0m\u001b[1;33m\u001b[0m\u001b[1;33m\u001b[0m\u001b[0m\n\u001b[1;32m---> 12\u001b[1;33m                     \u001b[1;34m'Omega_b'\u001b[0m \u001b[1;33m:\u001b[0m \u001b[1;36m2\u001b[0m\u001b[1;33m*\u001b[0m\u001b[0mnp\u001b[0m\u001b[1;33m.\u001b[0m\u001b[0mpi\u001b[0m\u001b[1;33m*\u001b[0m\u001b[1;36m60\u001b[0m\u001b[1;33m,\u001b[0m\u001b[1;33m\u001b[0m\u001b[1;33m\u001b[0m\u001b[0m\n\u001b[0m\u001b[0;32m     13\u001b[0m                     \u001b[1;34m'B_t0'\u001b[0m\u001b[1;33m:\u001b[0m\u001b[1;36m0.0\u001b[0m\u001b[1;33m,\u001b[0m\u001b[1;33m\u001b[0m\u001b[1;33m\u001b[0m\u001b[0m\n\u001b[0;32m     14\u001b[0m                     \u001b[1;34m'G_t_inf'\u001b[0m\u001b[1;33m:\u001b[0m\u001b[1;36m0.0\u001b[0m\u001b[1;33m,\u001b[0m\u001b[1;33m\u001b[0m\u001b[1;33m\u001b[0m\u001b[0m\n",
      "\u001b[1;31mNameError\u001b[0m: name 'np' is not defined"
     ]
    }
   ],
   "source": [
    "sys = { 't_end':20.0,'Dt':0.01,'solver':'forward-euler', 'decimation':10, 'name':'smib_1',\n",
    "   'models':[{'params':\n",
    "                   {'X_d' : 1.81,\n",
    "                    'X1d'  : 0.3,\n",
    "                    'T1d0'  : 8.0,\n",
    "                    'X_q'  : 1.76,\n",
    "                    'X1q'  : 0.65,\n",
    "                    'T1q0'  : 1.0 ,\n",
    "                    'R_a'  :  0.003, \n",
    "                    'X_l'  : 0.15 , \n",
    "                    'H'  : 3.5,   \n",
    "                    'Omega_b' : 2*np.pi*60,\n",
    "                    'B_t0':0.0,\n",
    "                    'G_t_inf':0.0,\n",
    "                    'T_r' : 0.05,\n",
    "                    'theta_inf': 0.0,  \n",
    "                    'T_r':0.05,  \n",
    "                    'T_pss_1' : 1.281,\n",
    "                    'T_pss_2' : 0.013,\n",
    "                    'T_w' : 5.0,\n",
    "                    'D':0.0,\n",
    "                    'K_a':200.0,\n",
    "                    'K_stab':10,\n",
    "                    'B_t_inf':-1.0/(0.15+1.0/(1.0/0.5+1.0/0.93)),\n",
    "                    'G_t0':0.01,\n",
    "                    'V_inf':0.9008},\n",
    "              'f':[\n",
    "                    'ddelta=Omega_b*(omega - 1)',\n",
    "                    'domega = -(p_e - p_m + D*(omega - 1))/(2*H)',\n",
    "                    'de1q =(v_f - e1q + i_d*(X1d - X_d))/T1d0',\n",
    "                    'de1d = -(e1d + i_q*(X1q - X_q))/T1q0',\n",
    "                    'dv_c =   (V_t - v_c)/T_r',\n",
    "                    'dx_pss = (omega_w - x_pss)/T_pss_2',\n",
    "                    'dx_w =  (omega - x_w)/T_w',\n",
    "                   ],\n",
    "              'g':[  'i_d@ v_q - e1q + R_a*i_q + i_d*(X1d - X_l)',\n",
    "                     'i_q@ v_d - e1d + R_a*i_d - i_q*(X1q - X_l)',\n",
    "                     'p_e@ p_e - i_d*(v_d + R_a*i_d) - i_q*(v_q + R_a*i_q) ',\n",
    "                     'v_d@ v_d - V_t*sin(delta - theta_t)',\n",
    "                     'v_q@ v_q - V_t*cos(delta - theta_t)',\n",
    "                     'P_t@ i_d*v_d - P_t + i_q*v_q',\n",
    "                     'Q_t@ i_d*v_q - Q_t - i_q*v_d',\n",
    "                     'theta_t @(G_t0 + G_t_inf)*V_t**2 - V_inf*(G_t_inf*cos(theta_t - phi_inf) + B_t_inf*sin(theta_t - theta_inf))*V_t - P_t',\n",
    "                     'V_t@ (- B_t0 - B_t_inf)*V_t**2 + V_inf*(B_t_inf*cos(theta_t - theta_inf) - G_t_inf*sin(theta_t - theta_inf))*V_t - Q_t',\n",
    "                     'v_f@K_a*(V_ref - v_c + v_pss) - v_f',\n",
    "                     'v_pss@v_pss + K_stab*(x_pss*(1/T_pss_2 - 1) - (T_pss_1*omega_w)/T_pss_2)',\n",
    "                     'omega_w@ omega_w - omega + x_w'],\n",
    "              'u':{'p_m':0.9,'V_ref':1.0,'RoCoF':0.0}, \n",
    "              'u_ini':{},\n",
    "              'y_ini':[  'i_d',  'i_q',  'p_e',  'v_d', 'v_q', 'P_t', 'Q_t', 'theta_t','V_t' , 'v_f','v_pss', 'omega_w'],\n",
    "              'h':[\n",
    "                   'omega'\n",
    "                   ]}\n",
    "              ],\n",
    "    'perturbations':[{'type':'step','time':1.0,'var':'V_ref','final':1.01} ]\n",
    "    }\n",
    "\n",
    "x,f = ode2numba.system(sys)  "
   ]
  },
  {
   "cell_type": "code",
   "execution_count": null,
   "metadata": {},
   "outputs": [],
   "source": []
  }
 ],
 "metadata": {
  "kernelspec": {
   "display_name": "Python 3",
   "language": "python",
   "name": "python3"
  },
  "language_info": {
   "codemirror_mode": {
    "name": "ipython",
    "version": 3
   },
   "file_extension": ".py",
   "mimetype": "text/x-python",
   "name": "python",
   "nbconvert_exporter": "python",
   "pygments_lexer": "ipython3",
   "version": "3.7.1"
  }
 },
 "nbformat": 4,
 "nbformat_minor": 2
}
