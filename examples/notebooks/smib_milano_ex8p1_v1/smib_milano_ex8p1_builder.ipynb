{
 "cells": [
  {
   "cell_type": "code",
   "execution_count": 16,
   "metadata": {},
   "outputs": [],
   "source": [
    "import numpy as np\n",
    "from pysimu import ode2numba, ssa\n",
    "\n"
   ]
  },
  {
   "cell_type": "markdown",
   "metadata": {},
   "source": [
    "## System definition "
   ]
  },
  {
   "cell_type": "code",
   "execution_count": 35,
   "metadata": {},
   "outputs": [
    {
     "name": "stdout",
     "output_type": "stream",
     "text": [
      "v_1\n",
      "theta_1\n",
      "v_d\n",
      "v_q\n",
      "i_d\n",
      "i_q\n",
      "p_e\n",
      "P_t\n",
      "Q_t\n",
      " P_t - (v_1*v_0*sin(theta_1 - theta_0))/X_l ,  Q_t + (v_1*v_0*cos(theta_1 - theta_0))/X_l - v_1**2/X_l,  v_1*sin(delta - theta_1) - v_d,  v_1*cos(delta - theta_1) - v_q,  v_q + R_a*i_q + X1d*i_d - e1q,  v_d + R_a*i_d - X1q*i_q - e1d,  i_d*(v_d + R_a*i_d) + i_q*(v_q + R_a*i_q) - p_e,  i_d*v_d + i_q*v_q - P_t,  i_d*v_q - i_q*v_d - Q_t, \n",
      "Matrix([[v_1], [theta_1], [v_d], [v_q], [i_d], [i_q], [p_e], [P_t], [Q_t]])\n",
      "N_y 9\n",
      " P_t - (v_1*v_0*sym.sin(theta_1 - theta_0))/X_l ,  Q_t + (v_1*v_0*sym.cos(theta_1 - theta_0))/X_l - v_1**2/X_l,  v_1*sym.sin(delta - theta_1) - v_d,  v_1*sym.cos(delta - theta_1) - v_q,  v_q + R_a*i_q + X1d*i_d - e1q,  v_d + R_a*i_d - X1q*i_q - e1d,  i_d*(v_d + R_a*i_d) + i_q*(v_q + R_a*i_q) - p_e,  i_d*v_d + i_q*v_q - P_t,  i_d*v_q - i_q*v_d - Q_t, \n"
     ]
    }
   ],
   "source": [
    "sys = { 't_end':20.0,'Dt':0.001,'solver':'forward-euler', 'decimation':10, 'name':'smib_milano_ex8p1',\n",
    "   'models':[{'params':\n",
    "                   {'X_d' : 1.81,\n",
    "                    'X1d'  : 0.3,\n",
    "                    'T1d0'  : 8.0,\n",
    "                    'X_q'  : 1.76,\n",
    "                    'X1q'  : 0.65,\n",
    "                    'T1q0'  : 1.0 ,\n",
    "                    'R_a'  :  0.003, \n",
    "                    'X_l'  : 0.05 , \n",
    "                    'H'  : 3.5,  \n",
    "                    'D':1.0,\n",
    "                    'Omega_b' : 2*np.pi*50,\n",
    "                    'v_0': 0.9008,\n",
    "                    'theta_0': 0.0},\n",
    "            'f':[\n",
    "                'ddelta = Omega_b*(omega - 1)',\n",
    "                'domega = 1/(2*H)*(p_m - p_e - D*(omega - 1))',\n",
    "                'de1q = 1/T1d0*(-e1q - (X_d - X1d)*i_d + v_f)',\n",
    "                'de1d = 1/T1q0*(-e1d + (X_q - X1q)*i_q)'],\n",
    "            'g':[ \n",
    "                'v_1@ P_t - (v_1*v_0*sin(theta_1 - theta_0))/X_l ',\n",
    "                'theta_1@ Q_t + (v_1*v_0*cos(theta_1 - theta_0))/X_l - v_1**2/X_l',\n",
    "                'v_d@ v_1*sin(delta - theta_1) - v_d',\n",
    "                'v_q@ v_1*cos(delta - theta_1) - v_q',\n",
    "                'i_d@ v_q + R_a*i_q + X1d*i_d - e1q',\n",
    "                'i_q@ v_d + R_a*i_d - X1q*i_q - e1d',\n",
    "                'p_e@ i_d*(v_d + R_a*i_d) + i_q*(v_q + R_a*i_q) - p_e',\n",
    "                'P_t@ i_d*v_d + i_q*v_q - P_t',\n",
    "                'Q_t@ i_d*v_q - i_q*v_d - Q_t'],\n",
    "              'u':{'p_m':0.2,'v_f':1.2}, \n",
    "              'u_ini':{},\n",
    "              'y_ini':[ 'theta_1','v_1', 'v_d','v_q','i_d',  'i_q',  'p_e',  'P_t', 'Q_t' ],\n",
    "              'h':[\n",
    "                   'omega'\n",
    "                   ]}\n",
    "              ],\n",
    "    'perturbations':[{'type':'step','time':1.0,'var':'p_m','final':1.01} ]\n",
    "    }\n",
    "\n",
    "x,f = ode2numba.system(sys)  "
   ]
  }
 ],
 "metadata": {
  "kernelspec": {
   "display_name": "Python 3",
   "language": "python",
   "name": "python3"
  },
  "language_info": {
   "codemirror_mode": {
    "name": "ipython",
    "version": 3
   },
   "file_extension": ".py",
   "mimetype": "text/x-python",
   "name": "python",
   "nbconvert_exporter": "python",
   "pygments_lexer": "ipython3",
   "version": "3.7.3"
  }
 },
 "nbformat": 4,
 "nbformat_minor": 2
}
