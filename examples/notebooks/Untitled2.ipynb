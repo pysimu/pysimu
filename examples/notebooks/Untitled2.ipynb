{
 "cells": [
  {
   "cell_type": "code",
   "execution_count": 1,
   "metadata": {},
   "outputs": [],
   "source": [
    "import random\n",
    "import matplotlib\n",
    "import tkinter as Tk\n",
    "import matplotlib.pyplot as plt\n",
    "from matplotlib.widgets import Slider\n",
    "from matplotlib.backends.backend_tkagg import FigureCanvasTkAgg\n",
    "\n",
    "matplotlib.use('TkAgg')\n",
    "\n",
    "root = Tk.Tk()\n",
    "root.wm_title(\"Embedding in TK\")\n",
    "fig = plt.Figure()\n",
    "canvas = FigureCanvasTkAgg(fig, root)\n",
    "canvas.get_tk_widget().pack(side=Tk.TOP, fill=Tk.BOTH, expand=1)\n",
    "\n",
    "ax=fig.add_subplot(111)\n",
    "fig.subplots_adjust(bottom=0.25)\n",
    "\n",
    "y_values = [random.randrange(20, 40, 1) for _ in range(40)]\n",
    "x_values = [i for i in range(40)]\n",
    "\n",
    "ax.axis([0, 9, 20, 40])\n",
    "ax.plot(x_values, y_values)\n",
    "\n",
    "ax_time = fig.add_axes([0.12, 0.1, 0.78, 0.03])\n",
    "s_time = Slider(ax_time, 'Time', 0, 30, valinit=0)\n",
    "\n",
    "\n",
    "def update(val):\n",
    "    pos = s_time.val\n",
    "    ax.axis([pos, pos+10, 20, 40])\n",
    "    fig.canvas.draw_idle()\n",
    "s_time.on_changed(update)\n",
    "\n",
    "Tk.mainloop()"
   ]
  },
  {
   "cell_type": "code",
   "execution_count": null,
   "metadata": {},
   "outputs": [],
   "source": []
  }
 ],
 "metadata": {
  "kernelspec": {
   "display_name": "Python 3",
   "language": "python",
   "name": "python3"
  },
  "language_info": {
   "codemirror_mode": {
    "name": "ipython",
    "version": 3
   },
   "file_extension": ".py",
   "mimetype": "text/x-python",
   "name": "python",
   "nbconvert_exporter": "python",
   "pygments_lexer": "ipython3",
   "version": "3.7.1"
  }
 },
 "nbformat": 4,
 "nbformat_minor": 2
}
