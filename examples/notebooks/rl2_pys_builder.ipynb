{
 "cells": [
  {
   "cell_type": "code",
   "execution_count": 1,
   "metadata": {},
   "outputs": [],
   "source": [
    "import numpy as np\n",
    "from pysimu.ode2numba import system"
   ]
  },
  {
   "cell_type": "code",
   "execution_count": 2,
   "metadata": {},
   "outputs": [
    {
     "name": "stdout",
     "output_type": "stream",
     "text": [
      "i_ms_d \n",
      "i_ms_q \n",
      "v_m_d \n",
      "v_m_q \n",
      " i_tm_d - i_ms_d,  i_tm_q - i_ms_q,  v_m_d - R_2*i_ms_d + L_2*omega*i_ms_q - v_s_d,  v_m_q - R_2*i_ms_q - L_2*omega*i_ms_d - v_s_q, \n",
      "Matrix([[i_ms_d], [i_ms_q], [v_m_d], [v_m_q]])\n",
      "N_y 4\n",
      " i_tm_d - i_ms_d,  i_tm_q - i_ms_q,  v_m_d - R_2*i_ms_d + L_2*omega*i_ms_q - v_s_d,  v_m_q - R_2*i_ms_q - L_2*omega*i_ms_d - v_s_q, \n"
     ]
    }
   ],
   "source": [
    "R_1 = 1.0;\n",
    "L_1 = 10e-3;\n",
    "\n",
    "R_2 = 1.0;\n",
    "L_2 = 1e-3;\n",
    "\n",
    "sys = { 't_end':0.1,'Dt':0.001,'solver':'forward-euler', 'decimation':10, 'name':'rl2',\n",
    "       'models':[{'params':\n",
    "                       {\n",
    "                        'R_1': R_1,\n",
    "                        'L_1': L_1,\n",
    "                        'R_2': R_2,\n",
    "                        'L_2': L_2,\n",
    "                       },\n",
    "                  'f':[\n",
    "                        'di_tm_d = 1/L_1*(v_t_d - R_1*i_tm_d + L_1*omega*i_tm_q - v_m_d)',\n",
    "                        'di_tm_q = 1/L_1*(v_t_q - R_1*i_tm_q - L_1*omega*i_tm_d - v_m_q)'\n",
    "                       ],\n",
    "                  'g':[\n",
    "                      'i_ms_d @ i_tm_d - i_ms_d',\n",
    "                      'i_ms_q @ i_tm_q - i_ms_q',\n",
    "                      'v_m_d @ v_m_d - R_2*i_ms_d + L_2*omega*i_ms_q - v_s_d',\n",
    "                      'v_m_q @ v_m_q - R_2*i_ms_q - L_2*omega*i_ms_d - v_s_q',\n",
    "                          ],\n",
    "                   'u':{'v_t_d':0.0,'v_t_q':-326.6,'v_s_d':0.0,'v_s_q':-326.6,'omega':2*np.pi*50.0},  \n",
    "                  #'u':{'v_t_d':0,'v_t_q':0,'v_s_d':0.0,'v_s_q':0,'omega':2*np.pi*50.0}, \n",
    "                  'y':    ['i_ms_d','i_ms_q','v_m_d','v_m_q'],\n",
    "                  'y_ini':['i_ms_d','i_ms_q','v_m_d','v_m_q'],\n",
    "                  'h':[\n",
    "                       'i_ms_d','i_ms_q'\n",
    "                       ]}\n",
    "                  ],\n",
    "        'perturbations':[{'type':'step','time':1.0,'var':'RoCoF','final':1.0} ]\n",
    "        }\n",
    "    \n",
    "x,f = system(sys) "
   ]
  },
  {
   "cell_type": "code",
   "execution_count": null,
   "metadata": {},
   "outputs": [],
   "source": []
  },
  {
   "cell_type": "code",
   "execution_count": null,
   "metadata": {},
   "outputs": [],
   "source": []
  },
  {
   "cell_type": "code",
   "execution_count": null,
   "metadata": {},
   "outputs": [],
   "source": []
  },
  {
   "cell_type": "code",
   "execution_count": null,
   "metadata": {},
   "outputs": [],
   "source": []
  }
 ],
 "metadata": {
  "kernelspec": {
   "display_name": "Python 3",
   "language": "python",
   "name": "python3"
  },
  "language_info": {
   "codemirror_mode": {
    "name": "ipython",
    "version": 3
   },
   "file_extension": ".py",
   "mimetype": "text/x-python",
   "name": "python",
   "nbconvert_exporter": "python",
   "pygments_lexer": "ipython3",
   "version": "3.7.1"
  }
 },
 "nbformat": 4,
 "nbformat_minor": 2
}
