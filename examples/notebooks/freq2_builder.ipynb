{
 "cells": [
  {
   "cell_type": "code",
   "execution_count": 1,
   "metadata": {},
   "outputs": [],
   "source": [
    "import numpy as np\n",
    "import matplotlib.pyplot as plt\n",
    "import scipy.optimize as sopt\n",
    "from pysimu import ode2numba, ssa\n",
    "\n",
    "from ipywidgets import *\n"
   ]
  },
  {
   "cell_type": "code",
   "execution_count": 2,
   "metadata": {},
   "outputs": [],
   "source": [
    "%matplotlib notebook"
   ]
  },
  {
   "cell_type": "markdown",
   "metadata": {},
   "source": [
    "## System definition "
   ]
  },
  {
   "cell_type": "code",
   "execution_count": 3,
   "metadata": {
    "scrolled": true
   },
   "outputs": [
    {
     "name": "stdout",
     "output_type": "stream",
     "text": [
      "p_1\n",
      "eps_1\n",
      "valv_1\n",
      "p_m_1\n",
      "p_2\n",
      "eps_2\n",
      "valv_2\n",
      "p_m_2\n",
      "phi\n",
      "omega_coi\n",
      "p_ref\n",
      "p_ref_1\n",
      "p_ref_2\n",
      " B_1*sin(phi_1 - phi) - p_1*(S_1/S_b), -eps_1 + omega_ref_1 - omega_1 + xi_lc_1 - Droop_1*p_1, -valv_1 + K_pgov_1*eps_1 + K_igov_1*xi_w_1, -p_m_1 + (1/T_b_1 - T_c_1/(T_b_1*T_b_1))*x_m_1 + T_c_1/T_b_1*valv_1, B_2*sin(phi_2 - phi) - p_2*(S_2/S_b), -eps_2 + omega_ref_2 - omega_2 + xi_lc_2 - Droop_2*p_2, -valv_2 + K_pgov_2*eps_2 + K_igov_2*xi_w_2, -p_m_2 + (1/T_b_2 - T_c_2/(T_b_2*T_b_2))*x_m_2 + T_c_2/T_b_2*valv_2,  (p_1*S_1/S_b + p_2*S_2/S_b) - p_load, -omega_coi + (H_1*omega_1 + H_2*omega_2)/(H_1 + H_2), -p_ref + K_p_agc * (1.0 - omega_coi) + K_i_agc * (xi_agc) , -p_ref_1 + S_1/S_b*p_ref, -p_ref_2 + S_2/S_b*p_ref, \n",
      "Matrix([[p_1], [eps_1], [valv_1], [p_m_1], [p_2], [eps_2], [valv_2], [p_m_2], [phi], [omega_coi], [p_ref], [p_ref_1], [p_ref_2]])\n",
      "N_y 13\n",
      " B_1*sym.sin(phi_1 - phi) - p_1*(S_1/S_b), -eps_1 + omega_ref_1 - omega_1 + xi_lc_1 - Droop_1*p_1, -valv_1 + K_pgov_1*eps_1 + K_igov_1*xi_w_1, -p_m_1 + (1/T_b_1 - T_c_1/(T_b_1*T_b_1))*x_m_1 + T_c_1/T_b_1*valv_1, B_2*sym.sin(phi_2 - phi) - p_2*(S_2/S_b), -eps_2 + omega_ref_2 - omega_2 + xi_lc_2 - Droop_2*p_2, -valv_2 + K_pgov_2*eps_2 + K_igov_2*xi_w_2, -p_m_2 + (1/T_b_2 - T_c_2/(T_b_2*T_b_2))*x_m_2 + T_c_2/T_b_2*valv_2,  (p_1*S_1/S_b + p_2*S_2/S_b) - p_load, -omega_coi + (H_1*omega_1 + H_2*omega_2)/(H_1 + H_2), -p_ref + K_p_agc * (1.0 - omega_coi) + K_i_agc * (xi_agc) , -p_ref_1 + S_1/S_b*p_ref, -p_ref_2 + S_2/S_b*p_ref, \n"
     ]
    }
   ],
   "source": [
    "sys = { 't_end':20.0,'Dt':0.01,'solver':'forward-euler', 'decimation':10, 'name':'freq2',\n",
    "   'models':[{'params':\n",
    "                   {'S_1':1,'B_1':10.0, 'H_1':5.0, 'Droop_1':0.05, 'D_1':10.0,\n",
    "                    'T_b_1':10.0, # turbine lag time constant, seconds\n",
    "                    'T_c_1':2.0,    # turbine lead time constant, seconds\n",
    "                    'K_pgov_1':10.0, # governor proportional gain, per unit\n",
    "                    'K_igov_1':2,   # governors integral gain, per unit\n",
    "                    'K_imw_1':0.0, # load (power) controller gain, per unit \n",
    "                    'omega_ref_1':1.0,\n",
    "                    'S_2':1,'B_2':10.0, 'H_2':5.0, 'Droop_2':0.05, 'D_2':10.0,\n",
    "                    'T_b_2':10.0, # turbine lag time constant, seconds\n",
    "                    'T_c_2':2.0,    # turbine lead time constant, seconds\n",
    "                    'K_pgov_2':10.0, # governor proportional gain, per unit\n",
    "                    'K_igov_2':2,   # governors integral gain, per unit\n",
    "                    'K_imw_2':0.001, # load (power) controller gain, per unit \n",
    "                    'omega_ref_2':1.0,\n",
    "                    'Omega_b':2*np.pi*50,'S_b':1.0,\n",
    "                    'p_load': 0.4,\n",
    "                    'K_p_agc':0.0,\n",
    "                    'K_i_agc':0.0001\n",
    "                   },\n",
    "              'f':[\n",
    "                    'dphi_1=Omega_b*(omega_1-omega_coi)',  # machine 1 internal angle, rad/s\n",
    "                    'domega_1 = (p_m_1 - p_1 - D_1*(omega_1-omega_coi))/(2*H_1)', # machine 1 speed, p.u.\n",
    "                    'dxi_lc_1 = K_imw_1 * (p_ref_1 - p_1)', # machine 1 load control integrator, p.u.\n",
    "                    'dxi_w_1 = eps_1',                      # machine 1 speed control integrator, p.u.\n",
    "                    'dx_m_1 = -x_m_1/T_b_1 + valv_1',\n",
    "                    'dphi_2=Omega_b*(omega_2-omega_coi)',  # machine 1 internal angle, rad/s\n",
    "                    'domega_2 = (p_m_2 - p_2 - D_2*(omega_2-omega_coi))/(2*H_2)', # machine 1 speed, p.u.\n",
    "                    'dxi_lc_2 = K_imw_2 * (p_ref_2 - p_2)', # machine 1 load control integrator, p.u.\n",
    "                    'dxi_w_2 = eps_2',                      # machine 1 speed control integrator, p.u.\n",
    "                    'dx_m_2 = -x_m_2/T_b_2 + valv_2',\n",
    "                    'dxi_agc = 1.0 - omega_coi'\n",
    "                   ],\n",
    "              'g':[  'p_1@ B_1*sin(phi_1 - phi) - p_1*(S_1/S_b)',\n",
    "                     'eps_1@-eps_1 + omega_ref_1 - omega_1 + xi_lc_1 - Droop_1*p_1',\n",
    "                     'valv_1@-valv_1 + K_pgov_1*eps_1 + K_igov_1*xi_w_1',\n",
    "                     'p_m_1@-p_m_1 + (1/T_b_1 - T_c_1/(T_b_1*T_b_1))*x_m_1 + T_c_1/T_b_1*valv_1',\n",
    "                     'p_2@B_2*sin(phi_2 - phi) - p_2*(S_2/S_b)',\n",
    "                     'eps_2@-eps_2 + omega_ref_2 - omega_2 + xi_lc_2 - Droop_2*p_2',\n",
    "                     'valv_2@-valv_2 + K_pgov_2*eps_2 + K_igov_2*xi_w_2',\n",
    "                     'p_m_2@-p_m_2 + (1/T_b_2 - T_c_2/(T_b_2*T_b_2))*x_m_2 + T_c_2/T_b_2*valv_2',\n",
    "                     'phi@ (p_1*S_1/S_b + p_2*S_2/S_b) - p_load',\n",
    "                     'omega_coi@-omega_coi + (H_1*omega_1 + H_2*omega_2)/(H_1 + H_2)',\n",
    "                     'p_ref@-p_ref + K_p_agc * (1.0 - omega_coi) + K_i_agc * (xi_agc) ',\n",
    "                     'p_ref_1@-p_ref_1 + S_1/S_b*p_ref',\n",
    "                     'p_ref_2@-p_ref_2 + S_2/S_b*p_ref',\n",
    "                      ],\n",
    "              'u':{}, \n",
    "              'u_ini':{},\n",
    "              'y_ini':['p_1','eps_1','valv_1','p_m_1','p_2','eps_2','valv_2','p_m_2','phi','omega_coi','p_ref',\n",
    "                      'p_ref_1','p_ref_2'],\n",
    "              'h':[\n",
    "                   'omega_1', 'omega_2'\n",
    "                   ]}\n",
    "              ],\n",
    "    'perturbations':[{'type':'step','time':1.0,'var':'p_load','final':1.0} ]\n",
    "    }\n",
    "\n",
    "# B_1, B_2, etc in the system base\n",
    "# p_load in system base\n",
    "# H_1, H_2, p_m_1, p_m_2, K_f_1, K_f_2 in machine system base \n",
    "x,f = ode2numba.system(sys)  "
   ]
  },
  {
   "cell_type": "code",
   "execution_count": null,
   "metadata": {},
   "outputs": [],
   "source": []
  },
  {
   "cell_type": "code",
   "execution_count": null,
   "metadata": {},
   "outputs": [],
   "source": []
  },
  {
   "cell_type": "code",
   "execution_count": null,
   "metadata": {},
   "outputs": [],
   "source": []
  }
 ],
 "metadata": {
  "kernelspec": {
   "display_name": "Python 3",
   "language": "python",
   "name": "python3"
  },
  "language_info": {
   "codemirror_mode": {
    "name": "ipython",
    "version": 3
   },
   "file_extension": ".py",
   "mimetype": "text/x-python",
   "name": "python",
   "nbconvert_exporter": "python",
   "pygments_lexer": "ipython3",
   "version": "3.7.1"
  }
 },
 "nbformat": 4,
 "nbformat_minor": 2
}
